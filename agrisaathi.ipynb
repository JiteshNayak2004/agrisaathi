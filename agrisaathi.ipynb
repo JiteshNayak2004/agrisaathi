{
  "nbformat": 4,
  "nbformat_minor": 0,
  "metadata": {
    "colab": {
      "provenance": [],
      "authorship_tag": "ABX9TyOD5jb2TcvdFyeAyEmMHVtF",
      "include_colab_link": true
    },
    "kernelspec": {
      "name": "python3",
      "display_name": "Python 3"
    },
    "language_info": {
      "name": "python"
    }
  },
  "cells": [
    {
      "cell_type": "markdown",
      "metadata": {
        "id": "view-in-github",
        "colab_type": "text"
      },
      "source": [
        "<a href=\"https://colab.research.google.com/github/JiteshNayak2004/kodikon_team2/blob/main/agrisaathi.ipynb\" target=\"_parent\"><img src=\"https://colab.research.google.com/assets/colab-badge.svg\" alt=\"Open In Colab\"/></a>"
      ]
    },
    {
      "cell_type": "markdown",
      "source": [
        "importing libraries"
      ],
      "metadata": {
        "id": "fkPxqLvF6bE6"
      }
    },
    {
      "cell_type": "code",
      "source": [
        "import numpy as np\n",
        "import matplotlib.pyplot as plt\n",
        "import pandas as pd\n",
        "import seaborn as sns\n",
        "from sklearn.metrics import f1_score, accuracy_score, confusion_matrix ,classification_report\n",
        "import joblib\n",
        "from joblib import Parallel, delayed\n",
        "import pickle\n",
        "\n"
      ],
      "metadata": {
        "id": "JNYo0gPC6ZaN"
      },
      "execution_count": 1,
      "outputs": []
    },
    {
      "cell_type": "markdown",
      "source": [
        "importing dataset"
      ],
      "metadata": {
        "id": "dTb1wXXA5ccR"
      }
    },
    {
      "cell_type": "code",
      "execution_count": null,
      "metadata": {
        "id": "4IpCjZdt5beF",
        "colab": {
          "base_uri": "https://localhost:8080/"
        },
        "outputId": "52edb239-54b0-46bb-964b-aa5fa593af23"
      },
      "outputs": [
        {
          "output_type": "stream",
          "name": "stdout",
          "text": [
            "<class 'pandas.core.frame.DataFrame'>\n",
            "RangeIndex: 2200 entries, 0 to 2199\n",
            "Data columns (total 8 columns):\n",
            " #   Column       Non-Null Count  Dtype  \n",
            "---  ------       --------------  -----  \n",
            " 0   N            2200 non-null   int64  \n",
            " 1   P            2200 non-null   int64  \n",
            " 2   K            2200 non-null   int64  \n",
            " 3   temperature  2200 non-null   float64\n",
            " 4   humidity     2200 non-null   float64\n",
            " 5   ph           2200 non-null   float64\n",
            " 6   rainfall     2200 non-null   float64\n",
            " 7   label        2200 non-null   object \n",
            "dtypes: float64(4), int64(3), object(1)\n",
            "memory usage: 137.6+ KB\n",
            "None\n"
          ]
        }
      ],
      "source": [
        "dataset = pd.read_csv('Crop_recommendation.csv')\n",
        "X= dataset.iloc[:,0:-1].values\n",
        "y = dataset.iloc[:,-1:].values\n",
        "print(dataset.info())"
      ]
    },
    {
      "cell_type": "markdown",
      "source": [
        "parameters in the dataset\n"
      ],
      "metadata": {
        "id": "e7Xcns_U69Ar"
      }
    },
    {
      "cell_type": "code",
      "source": [
        "print(dataset.head())\n"
      ],
      "metadata": {
        "colab": {
          "base_uri": "https://localhost:8080/"
        },
        "id": "o_11zRSd6_tv",
        "outputId": "bef1f307-277f-4af6-f627-3b705fc627e2"
      },
      "execution_count": null,
      "outputs": [
        {
          "output_type": "stream",
          "name": "stdout",
          "text": [
            "    N   P   K  temperature   humidity        ph    rainfall label\n",
            "0  90  42  43    20.879744  82.002744  6.502985  202.935536  rice\n",
            "1  85  58  41    21.770462  80.319644  7.038096  226.655537  rice\n",
            "2  60  55  44    23.004459  82.320763  7.840207  263.964248  rice\n",
            "3  74  35  40    26.491096  80.158363  6.980401  242.864034  rice\n",
            "4  78  42  42    20.130175  81.604873  7.628473  262.717340  rice\n"
          ]
        }
      ]
    },
    {
      "cell_type": "markdown",
      "source": [
        "the crops we predict"
      ],
      "metadata": {
        "id": "3gw-TSGT__rd"
      }
    },
    {
      "cell_type": "code",
      "source": [
        "print(dataset['label'].unique())"
      ],
      "metadata": {
        "colab": {
          "base_uri": "https://localhost:8080/"
        },
        "id": "raKu7kYZ-cOS",
        "outputId": "1c87fc36-fbe0-4654-d8d0-4c227febfc77"
      },
      "execution_count": null,
      "outputs": [
        {
          "output_type": "stream",
          "name": "stdout",
          "text": [
            "['rice' 'maize' 'chickpea' 'kidneybeans' 'pigeonpeas' 'mothbeans'\n",
            " 'mungbean' 'blackgram' 'lentil' 'pomegranate' 'banana' 'mango' 'grapes'\n",
            " 'watermelon' 'muskmelon' 'apple' 'orange' 'papaya' 'coconut' 'cotton'\n",
            " 'jute' 'coffee']\n"
          ]
        }
      ]
    },
    {
      "cell_type": "markdown",
      "source": [
        "splitting the dataset"
      ],
      "metadata": {
        "id": "0ZNG7hw59oxW"
      }
    },
    {
      "cell_type": "code",
      "source": [
        "from sklearn.model_selection import train_test_split\n",
        "X_train, X_test, y_train, y_test = train_test_split(X, y, test_size = 1/4, random_state = 0)"
      ],
      "metadata": {
        "id": "OaePrflc-Yxa"
      },
      "execution_count": null,
      "outputs": []
    },
    {
      "cell_type": "markdown",
      "source": [
        "training and fitting on a random forest classifier"
      ],
      "metadata": {
        "id": "X4lKnX4i78cT"
      }
    },
    {
      "cell_type": "code",
      "source": [
        "from sklearn.ensemble import RandomForestClassifier\n",
        "randomFC = RandomForestClassifier()\n",
        "randomFC.fit(X_train, y_train)"
      ],
      "metadata": {
        "colab": {
          "base_uri": "https://localhost:8080/"
        },
        "id": "k4cSk3jb8EB0",
        "outputId": "c8946b82-4d52-4e00-f1d9-c78cd85413fc"
      },
      "execution_count": null,
      "outputs": [
        {
          "output_type": "stream",
          "name": "stderr",
          "text": [
            "<ipython-input-35-f01d43f6b5ac>:3: DataConversionWarning: A column-vector y was passed when a 1d array was expected. Please change the shape of y to (n_samples,), for example using ravel().\n",
            "  randomFC.fit(X_train, y_train)\n"
          ]
        },
        {
          "output_type": "execute_result",
          "data": {
            "text/plain": [
              "RandomForestClassifier()"
            ]
          },
          "metadata": {},
          "execution_count": 35
        }
      ]
    },
    {
      "cell_type": "markdown",
      "source": [
        "correlation matrix"
      ],
      "metadata": {
        "id": "ITGINyFRApi1"
      }
    },
    {
      "cell_type": "code",
      "source": [
        "dataplot=sns.heatmap(dataset.corr())"
      ],
      "metadata": {
        "colab": {
          "base_uri": "https://localhost:8080/",
          "height": 322
        },
        "id": "Ti9woq8ZArip",
        "outputId": "61b3ea26-703b-4905-f1d1-ce99ad893d13"
      },
      "execution_count": null,
      "outputs": [
        {
          "output_type": "display_data",
          "data": {
            "text/plain": [
              "<Figure size 432x288 with 2 Axes>"
            ],
            "image/png": "[encoded data removed]"
          },
          "metadata": {
            "needs_background": "light"
          }
        }
      ]
    },
    {
      "cell_type": "markdown",
      "source": [
        "predicting and seeing how the model performs"
      ],
      "metadata": {
        "id": "1vpUGgoXBf7M"
      }
    },
    {
      "cell_type": "code",
      "source": [
        "y_pred = randomFC.predict(X_test)\n",
        "#plt.plot(X_train,randomFC.predict(X_train), color = 'blue')\n",
        "print(y_train)\n"
      ],
      "metadata": {
        "colab": {
          "base_uri": "https://localhost:8080/"
        },
        "id": "2yH3ZIcZBlnW",
        "outputId": "88940a95-5287-47d7-ed7a-bfce58cffa18"
      },
      "execution_count": null,
      "outputs": [
        {
          "output_type": "stream",
          "name": "stdout",
          "text": [
            "[['cotton']\n",
            " ['grapes']\n",
            " ['blackgram']\n",
            " ...\n",
            " ['blackgram']\n",
            " ['lentil']\n",
            " ['orange']]\n"
          ]
        }
      ]
    },
    {
      "cell_type": "markdown",
      "source": [
        "model accuracy"
      ],
      "metadata": {
        "id": "dgXY5JrHGb3A"
      }
    },
    {
      "cell_type": "code",
      "source": [
        "from sklearn import metrics\n",
        "\n",
        "# Model Accuracy\n",
        "print(\"Accuracy:\", metrics.accuracy_score(y_pred, y_test))"
      ],
      "metadata": {
        "colab": {
          "base_uri": "https://localhost:8080/"
        },
        "id": "LPWSubjBG8-_",
        "outputId": "976f2202-4f7e-4ffe-9b5a-046f940dc722"
      },
      "execution_count": null,
      "outputs": [
        {
          "output_type": "stream",
          "name": "stdout",
          "text": [
            "Accuracy: 0.9981818181818182\n"
          ]
        }
      ]
    },
    {
      "cell_type": "markdown",
      "source": [
        "testing for random value"
      ],
      "metadata": {
        "id": "0YYKzFQgIuyX"
      }
    },
    {
      "cell_type": "code",
      "source": [
        "y_demo = randomFC.predict([[40,14,59,26,81,7,201]])\n",
        "print(y_demo)"
      ],
      "metadata": {
        "colab": {
          "base_uri": "https://localhost:8080/"
        },
        "id": "LIJSO_0TIxM6",
        "outputId": "e418bbc7-6aa4-422e-9e5b-0b33312f1274"
      },
      "execution_count": null,
      "outputs": [
        {
          "output_type": "stream",
          "name": "stdout",
          "text": [
            "['pomegranate']\n"
          ]
        }
      ]
    },
    {
      "cell_type": "markdown",
      "source": [
        "checking if the prediction makes sense"
      ],
      "metadata": {
        "id": "EKYSUv4IKQzb"
      }
    },
    {
      "cell_type": "code",
      "source": [
        "# condition with df.values property\n",
        "mask = dataset['label'].values == 'watermelon'\n",
        " \n",
        "# new dataframe\n",
        "df_new = dataset[mask]\n",
        " \n",
        "print(df_new)"
      ],
      "metadata": {
        "colab": {
          "base_uri": "https://localhost:8080/"
        },
        "id": "1-A2DhmQKV49",
        "outputId": "039e4613-88aa-44e3-8c89-e5d613aa9906"
      },
      "execution_count": null,
      "outputs": [
        {
          "output_type": "stream",
          "name": "stdout",
          "text": [
            "      N   P   K  temperature   humidity        ph    rainfall        label\n",
            "900   2  24  38    24.559816  91.635362  5.922936  111.968462  pomegranate\n",
            "901   6  18  37    19.656901  89.937010  5.937650  108.045893  pomegranate\n",
            "902   8  26  36    18.783596  87.402477  6.804781  102.518476  pomegranate\n",
            "903  37  18  39    24.146963  94.511066  6.424671  110.231663  pomegranate\n",
            "904   0  27  38    22.445813  89.901470  6.738016  109.390600  pomegranate\n",
            "..   ..  ..  ..          ...        ...       ...         ...          ...\n",
            "995  33  23  45    20.002190  85.836182  7.116539  112.337046  pomegranate\n",
            "996   4  14  41    19.851393  89.807323  6.430163  102.818636  pomegranate\n",
            "997  13  17  45    21.254336  92.650589  7.159521  106.278467  pomegranate\n",
            "998  39  24  39    23.653741  93.326575  6.431266  109.807618  pomegranate\n",
            "999   8  28  37    23.884048  86.206138  6.082572  108.312179  pomegranate\n",
            "\n",
            "[100 rows x 8 columns]\n"
          ]
        }
      ]
    },
    {
      "cell_type": "markdown",
      "source": [
        "saving the model in a pickle file"
      ],
      "metadata": {
        "id": "1Vpm76U84a1J"
      }
    },
    {
      "cell_type": "code",
      "source": [
        "pickle.dump(randomFC, open('crop_recommender.pkl', 'wb'))"
      ],
      "metadata": {
        "id": "hr2gzoUD4dxG"
      },
      "execution_count": null,
      "outputs": []
    }
  ]
}